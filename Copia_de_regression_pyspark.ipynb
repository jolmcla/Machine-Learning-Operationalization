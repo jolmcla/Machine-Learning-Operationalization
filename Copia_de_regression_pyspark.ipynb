{
  "nbformat": 4,
  "nbformat_minor": 0,
  "metadata": {
    "colab": {
      "name": "Copia de regression_pyspark.ipynb",
      "provenance": [],
      "collapsed_sections": [],
      "authorship_tag": "ABX9TyN6O1II5nJa33ktQGt8dHVx",
      "include_colab_link": true
    },
    "kernelspec": {
      "name": "python3",
      "display_name": "Python 3"
    },
    "language_info": {
      "name": "python"
    }
  },
  "cells": [
    {
      "cell_type": "markdown",
      "metadata": {
        "id": "view-in-github",
        "colab_type": "text"
      },
      "source": [
        "<a href=\"https://colab.research.google.com/github/jolmcla/Machine-Learning-Operationalization/blob/master/Copia_de_regression_pyspark.ipynb\" target=\"_parent\"><img src=\"https://colab.research.google.com/assets/colab-badge.svg\" alt=\"Open In Colab\"/></a>"
      ]
    },
    {
      "cell_type": "code",
      "metadata": {
        "id": "yxDpWarZ_Zi1"
      },
      "source": [
        "!apt-get install openjdk-8-jdk-headless -qq > /dev/null"
      ],
      "execution_count": 271,
      "outputs": []
    },
    {
      "cell_type": "code",
      "metadata": {
        "id": "4m5pSoqcBrf1"
      },
      "source": [
        "!wget -q https://dlcdn.apache.org/spark/spark-3.2.0/spark-3.2.0-bin-hadoop3.2.tgz"
      ],
      "execution_count": 272,
      "outputs": []
    },
    {
      "cell_type": "code",
      "metadata": {
        "colab": {
          "base_uri": "https://localhost:8080/"
        },
        "id": "EXduzqYQCFrD",
        "outputId": "bbd6af4e-7e3a-4f41-f7a5-641c981dc0c7"
      },
      "source": [
        "import os\n",
        "\n",
        "print(os.getcwd())"
      ],
      "execution_count": 273,
      "outputs": [
        {
          "output_type": "stream",
          "name": "stdout",
          "text": [
            "/content\n"
          ]
        }
      ]
    },
    {
      "cell_type": "code",
      "metadata": {
        "id": "LU6yVZ4oB4kD"
      },
      "source": [
        "!tar xf /content/spark-3.2.0-bin-hadoop3.2.tgz"
      ],
      "execution_count": 274,
      "outputs": []
    },
    {
      "cell_type": "code",
      "metadata": {
        "id": "jT24yi9TDanI"
      },
      "source": [
        "!pip install -q findspark"
      ],
      "execution_count": 275,
      "outputs": []
    },
    {
      "cell_type": "code",
      "metadata": {
        "id": "nCXBl3gNDlk_"
      },
      "source": [
        "import os\n",
        "os.environ[\"JAVA_HOME\"] = \"/usr/lib/jvm/java-8-openjdk-amd64\"\n",
        "os.environ[\"SPARK_HOME\"] = \"/content/spark-3.2.0-bin-hadoop3.2\""
      ],
      "execution_count": 276,
      "outputs": []
    },
    {
      "cell_type": "code",
      "metadata": {
        "id": "Chv5QNy3D0D1"
      },
      "source": [
        "import findspark\n",
        "findspark.init()\n"
      ],
      "execution_count": 277,
      "outputs": []
    },
    {
      "cell_type": "code",
      "metadata": {
        "colab": {
          "base_uri": "https://localhost:8080/",
          "height": 34
        },
        "id": "BpUIJL1zEC6t",
        "outputId": "259b5673-eb3d-411f-c3b9-2a9358f9f716"
      },
      "source": [
        "findspark.find()"
      ],
      "execution_count": 278,
      "outputs": [
        {
          "output_type": "execute_result",
          "data": {
            "application/vnd.google.colaboratory.intrinsic+json": {
              "type": "string"
            },
            "text/plain": [
              "'/content/spark-3.2.0-bin-hadoop3.2'"
            ]
          },
          "metadata": {},
          "execution_count": 278
        }
      ]
    },
    {
      "cell_type": "code",
      "metadata": {
        "id": "UIRmIBD4D5dd"
      },
      "source": [
        "from pyspark.sql import SparkSession\n",
        "\n",
        "spark= SparkSession \\\n",
        "       .builder \\\n",
        "       .appName(\"Our First Spark example\") \\\n",
        "       .getOrCreate()"
      ],
      "execution_count": 279,
      "outputs": []
    },
    {
      "cell_type": "code",
      "metadata": {
        "id": "dc0dYcThEb3U",
        "colab": {
          "base_uri": "https://localhost:8080/"
        },
        "outputId": "7705f0dd-91b5-411d-98ab-da84ee8462b4"
      },
      "source": [
        "import pandas as pd\n",
        "from google.colab import drive\n",
        "drive.mount('/content/drive')\n",
        "#df1 = pd.read_csv('/content/drive/MyDrive/heart.csv')\n",
        "\n",
        "housing=spark.read.option(\"InferSchema\",'true').csv(\"/content/drive/MyDrive/housing2.csv\", header=True)"
      ],
      "execution_count": 280,
      "outputs": [
        {
          "output_type": "stream",
          "name": "stdout",
          "text": [
            "Drive already mounted at /content/drive; to attempt to forcibly remount, call drive.mount(\"/content/drive\", force_remount=True).\n"
          ]
        }
      ]
    },
    {
      "cell_type": "code",
      "metadata": {
        "colab": {
          "base_uri": "https://localhost:8080/"
        },
        "id": "jr3YtWLUEcvk",
        "outputId": "2beef85a-d133-4c39-bfd0-b084de832950"
      },
      "source": [
        "housing.printSchema()"
      ],
      "execution_count": 281,
      "outputs": [
        {
          "output_type": "stream",
          "name": "stdout",
          "text": [
            "root\n",
            " |-- longitude: double (nullable = true)\n",
            " |-- latitude: double (nullable = true)\n",
            " |-- housing_median_age: double (nullable = true)\n",
            " |-- total_rooms: double (nullable = true)\n",
            " |-- total_bedrooms: double (nullable = true)\n",
            " |-- population: double (nullable = true)\n",
            " |-- households: double (nullable = true)\n",
            " |-- median_income: double (nullable = true)\n",
            " |-- median_house_value: double (nullable = true)\n",
            " |-- ocean_proximity: string (nullable = true)\n",
            "\n"
          ]
        }
      ]
    },
    {
      "cell_type": "code",
      "metadata": {
        "colab": {
          "base_uri": "https://localhost:8080/"
        },
        "id": "xQ1wQnSaEc9b",
        "outputId": "16085cb8-fe19-462d-c1da-248e0d665427"
      },
      "source": [
        "#columns of dataframe\n",
        "housing.columns"
      ],
      "execution_count": 282,
      "outputs": [
        {
          "output_type": "execute_result",
          "data": {
            "text/plain": [
              "['longitude',\n",
              " 'latitude',\n",
              " 'housing_median_age',\n",
              " 'total_rooms',\n",
              " 'total_bedrooms',\n",
              " 'population',\n",
              " 'households',\n",
              " 'median_income',\n",
              " 'median_house_value',\n",
              " 'ocean_proximity']"
            ]
          },
          "metadata": {},
          "execution_count": 282
        }
      ]
    },
    {
      "cell_type": "code",
      "metadata": {
        "id": "mU_a_nEtEdKL"
      },
      "source": [
        "#create sparksession object\n",
        "from pyspark.sql import SparkSession\n",
        "spark=SparkSession.builder.appName('lin_reg').getOrCreate()"
      ],
      "execution_count": 283,
      "outputs": []
    },
    {
      "cell_type": "code",
      "metadata": {
        "id": "NahXCydpEdYs"
      },
      "source": [
        "#import Linear Regression from spark's MLlib\n",
        "from pyspark.ml.regression import LinearRegression"
      ],
      "execution_count": 284,
      "outputs": []
    },
    {
      "cell_type": "code",
      "metadata": {
        "id": "FzAbIIavEdoL",
        "colab": {
          "base_uri": "https://localhost:8080/"
        },
        "outputId": "0c796d85-d9fd-43ad-b6ca-eef9081491fc"
      },
      "source": [
        "#shape of dataset\n",
        "print((housing.count(),len(housing.columns)))"
      ],
      "execution_count": 285,
      "outputs": [
        {
          "output_type": "stream",
          "name": "stdout",
          "text": [
            "(20640, 10)\n"
          ]
        }
      ]
    },
    {
      "cell_type": "code",
      "metadata": {
        "id": "_EpgMFz4Edz7",
        "colab": {
          "base_uri": "https://localhost:8080/"
        },
        "outputId": "cc9e1f5d-e0d3-4391-8d4c-f59e009982ae"
      },
      "source": [
        "#printSchema\n",
        "housing.printSchema()"
      ],
      "execution_count": 286,
      "outputs": [
        {
          "output_type": "stream",
          "name": "stdout",
          "text": [
            "root\n",
            " |-- longitude: double (nullable = true)\n",
            " |-- latitude: double (nullable = true)\n",
            " |-- housing_median_age: double (nullable = true)\n",
            " |-- total_rooms: double (nullable = true)\n",
            " |-- total_bedrooms: double (nullable = true)\n",
            " |-- population: double (nullable = true)\n",
            " |-- households: double (nullable = true)\n",
            " |-- median_income: double (nullable = true)\n",
            " |-- median_house_value: double (nullable = true)\n",
            " |-- ocean_proximity: string (nullable = true)\n",
            "\n"
          ]
        }
      ]
    },
    {
      "cell_type": "code",
      "metadata": {
        "id": "InrNU2JLEeAL",
        "colab": {
          "base_uri": "https://localhost:8080/"
        },
        "outputId": "464c41a1-00fd-41fa-86ee-89a37439444b"
      },
      "source": [
        "#view statistical measures of data \n",
        "housing.describe().show(5,False)"
      ],
      "execution_count": 287,
      "outputs": [
        {
          "output_type": "stream",
          "name": "stdout",
          "text": [
            "+-------+-------------------+-----------------+------------------+------------------+------------------+------------------+-----------------+------------------+------------------+---------------+\n",
            "|summary|longitude          |latitude         |housing_median_age|total_rooms       |total_bedrooms    |population        |households       |median_income     |median_house_value|ocean_proximity|\n",
            "+-------+-------------------+-----------------+------------------+------------------+------------------+------------------+-----------------+------------------+------------------+---------------+\n",
            "|count  |20640              |20640            |20640             |20640             |20433             |20640             |20640            |20640             |20640             |20640          |\n",
            "|mean   |-119.56970445736148|35.6318614341087 |28.639486434108527|2635.7630813953488|537.8705525375618 |1425.4767441860465|499.5396802325581|3.8706710029070246|206855.81690891474|null           |\n",
            "|stddev |2.003531723502584  |2.135952397457101|12.58555761211163 |2181.6152515827944|421.38507007403115|1132.46212176534  |382.3297528316098|1.899821717945263 |115395.61587441359|null           |\n",
            "|min    |-124.35            |32.54            |1.0               |2.0               |1.0               |3.0               |1.0              |0.4999            |14999.0           |<1H OCEAN      |\n",
            "|max    |-114.31            |41.95            |52.0              |39320.0           |6445.0            |35682.0           |6082.0           |15.0001           |500001.0          |NEAR OCEAN     |\n",
            "+-------+-------------------+-----------------+------------------+------------------+------------------+------------------+-----------------+------------------+------------------+---------------+\n",
            "\n"
          ]
        }
      ]
    },
    {
      "cell_type": "markdown",
      "metadata": {
        "id": "E3xUbBwp_vCJ"
      },
      "source": [
        "url = 'copied_raw_GH_link'\n",
        "df1 = pd.read_csv(url)"
      ]
    },
    {
      "cell_type": "code",
      "metadata": {
        "id": "avWJnViDEfkD",
        "colab": {
          "base_uri": "https://localhost:8080/"
        },
        "outputId": "eb8c5def-3282-4fef-b8a1-f1bfa1e86cde"
      },
      "source": [
        "#sneak into the dataset\n",
        "housing.head(3)"
      ],
      "execution_count": 288,
      "outputs": [
        {
          "output_type": "execute_result",
          "data": {
            "text/plain": [
              "[Row(longitude=-122.23, latitude=37.88, housing_median_age=41.0, total_rooms=880.0, total_bedrooms=129.0, population=322.0, households=126.0, median_income=8.3252, median_house_value=452600.0, ocean_proximity='NEAR BAY'),\n",
              " Row(longitude=-122.22, latitude=37.86, housing_median_age=21.0, total_rooms=7099.0, total_bedrooms=1106.0, population=2401.0, households=1138.0, median_income=8.3014, median_house_value=358500.0, ocean_proximity='NEAR BAY'),\n",
              " Row(longitude=-122.24, latitude=37.85, housing_median_age=52.0, total_rooms=1467.0, total_bedrooms=190.0, population=496.0, households=177.0, median_income=7.2574, median_house_value=352100.0, ocean_proximity='NEAR BAY')]"
            ]
          },
          "metadata": {},
          "execution_count": 288
        }
      ]
    },
    {
      "cell_type": "code",
      "source": [
        "for i in housing.columns:\n",
        "  print(i)\n",
        "  housing.filter(housing[i].isNull()).show()\n"
      ],
      "metadata": {
        "colab": {
          "base_uri": "https://localhost:8080/"
        },
        "id": "NTJHDPNOZn4b",
        "outputId": "616b0240-9d51-4c6e-9d25-8b2bc1294a24"
      },
      "execution_count": 289,
      "outputs": [
        {
          "output_type": "stream",
          "name": "stdout",
          "text": [
            "longitude\n",
            "+---------+--------+------------------+-----------+--------------+----------+----------+-------------+------------------+---------------+\n",
            "|longitude|latitude|housing_median_age|total_rooms|total_bedrooms|population|households|median_income|median_house_value|ocean_proximity|\n",
            "+---------+--------+------------------+-----------+--------------+----------+----------+-------------+------------------+---------------+\n",
            "+---------+--------+------------------+-----------+--------------+----------+----------+-------------+------------------+---------------+\n",
            "\n",
            "latitude\n",
            "+---------+--------+------------------+-----------+--------------+----------+----------+-------------+------------------+---------------+\n",
            "|longitude|latitude|housing_median_age|total_rooms|total_bedrooms|population|households|median_income|median_house_value|ocean_proximity|\n",
            "+---------+--------+------------------+-----------+--------------+----------+----------+-------------+------------------+---------------+\n",
            "+---------+--------+------------------+-----------+--------------+----------+----------+-------------+------------------+---------------+\n",
            "\n",
            "housing_median_age\n",
            "+---------+--------+------------------+-----------+--------------+----------+----------+-------------+------------------+---------------+\n",
            "|longitude|latitude|housing_median_age|total_rooms|total_bedrooms|population|households|median_income|median_house_value|ocean_proximity|\n",
            "+---------+--------+------------------+-----------+--------------+----------+----------+-------------+------------------+---------------+\n",
            "+---------+--------+------------------+-----------+--------------+----------+----------+-------------+------------------+---------------+\n",
            "\n",
            "total_rooms\n",
            "+---------+--------+------------------+-----------+--------------+----------+----------+-------------+------------------+---------------+\n",
            "|longitude|latitude|housing_median_age|total_rooms|total_bedrooms|population|households|median_income|median_house_value|ocean_proximity|\n",
            "+---------+--------+------------------+-----------+--------------+----------+----------+-------------+------------------+---------------+\n",
            "+---------+--------+------------------+-----------+--------------+----------+----------+-------------+------------------+---------------+\n",
            "\n",
            "total_bedrooms\n",
            "+---------+--------+------------------+-----------+--------------+----------+----------+-------------+------------------+---------------+\n",
            "|longitude|latitude|housing_median_age|total_rooms|total_bedrooms|population|households|median_income|median_house_value|ocean_proximity|\n",
            "+---------+--------+------------------+-----------+--------------+----------+----------+-------------+------------------+---------------+\n",
            "|  -122.16|   37.77|              47.0|     1256.0|          null|     570.0|     218.0|        4.375|          161900.0|       NEAR BAY|\n",
            "|  -122.17|   37.75|              38.0|      992.0|          null|     732.0|     259.0|       1.6196|           85100.0|       NEAR BAY|\n",
            "|  -122.28|   37.78|              29.0|     5154.0|          null|    3741.0|    1273.0|       2.5762|          173400.0|       NEAR BAY|\n",
            "|  -122.24|   37.75|              45.0|      891.0|          null|     384.0|     146.0|       4.9489|          247100.0|       NEAR BAY|\n",
            "|   -122.1|   37.69|              41.0|      746.0|          null|     387.0|     161.0|       3.9063|          178400.0|       NEAR BAY|\n",
            "|  -122.14|   37.67|              37.0|     3342.0|          null|    1635.0|     557.0|       4.7933|          186900.0|       NEAR BAY|\n",
            "|  -121.77|   39.66|              20.0|     3759.0|          null|    1705.0|     600.0|        4.712|          158600.0|         INLAND|\n",
            "|  -121.95|   38.03|               5.0|     5526.0|          null|    3207.0|    1012.0|       4.0767|          143100.0|         INLAND|\n",
            "|  -121.98|   37.96|              22.0|     2987.0|          null|    1420.0|     540.0|         3.65|          204100.0|         INLAND|\n",
            "|  -122.01|   37.94|              23.0|     3741.0|          null|    1339.0|     499.0|       6.7061|          322300.0|       NEAR BAY|\n",
            "|  -122.08|   37.88|              26.0|     2947.0|          null|     825.0|     626.0|        2.933|           85000.0|       NEAR BAY|\n",
            "|  -119.75|   36.71|              38.0|     1481.0|          null|    1543.0|     372.0|       1.4577|           49800.0|         INLAND|\n",
            "|  -119.72|   36.76|              23.0|     6403.0|          null|    3573.0|    1260.0|       2.3006|           69000.0|         INLAND|\n",
            "|  -119.78|   36.82|              25.0|     5016.0|          null|    2133.0|     928.0|        3.625|           89500.0|         INLAND|\n",
            "|  -119.73|   36.83|               8.0|     3602.0|          null|    1959.0|     580.0|       5.3478|          138800.0|         INLAND|\n",
            "|  -119.69|   36.83|              32.0|     1098.0|          null|     726.0|     224.0|       1.4913|           54600.0|         INLAND|\n",
            "|  -119.68|   36.79|              16.0|     1551.0|          null|    1010.0|     292.0|       3.5417|           71300.0|         INLAND|\n",
            "|  -119.45|   36.61|              24.0|     1302.0|          null|     693.0|     243.0|       3.7917|           90500.0|         INLAND|\n",
            "|  -119.44|   36.58|              37.0|     1054.0|          null|     879.0|     257.0|       2.5234|           63500.0|         INLAND|\n",
            "|  -124.06|   40.86|              34.0|     4183.0|          null|    1891.0|     669.0|       3.2216|           98100.0|     NEAR OCEAN|\n",
            "+---------+--------+------------------+-----------+--------------+----------+----------+-------------+------------------+---------------+\n",
            "only showing top 20 rows\n",
            "\n",
            "population\n",
            "+---------+--------+------------------+-----------+--------------+----------+----------+-------------+------------------+---------------+\n",
            "|longitude|latitude|housing_median_age|total_rooms|total_bedrooms|population|households|median_income|median_house_value|ocean_proximity|\n",
            "+---------+--------+------------------+-----------+--------------+----------+----------+-------------+------------------+---------------+\n",
            "+---------+--------+------------------+-----------+--------------+----------+----------+-------------+------------------+---------------+\n",
            "\n",
            "households\n",
            "+---------+--------+------------------+-----------+--------------+----------+----------+-------------+------------------+---------------+\n",
            "|longitude|latitude|housing_median_age|total_rooms|total_bedrooms|population|households|median_income|median_house_value|ocean_proximity|\n",
            "+---------+--------+------------------+-----------+--------------+----------+----------+-------------+------------------+---------------+\n",
            "+---------+--------+------------------+-----------+--------------+----------+----------+-------------+------------------+---------------+\n",
            "\n",
            "median_income\n",
            "+---------+--------+------------------+-----------+--------------+----------+----------+-------------+------------------+---------------+\n",
            "|longitude|latitude|housing_median_age|total_rooms|total_bedrooms|population|households|median_income|median_house_value|ocean_proximity|\n",
            "+---------+--------+------------------+-----------+--------------+----------+----------+-------------+------------------+---------------+\n",
            "+---------+--------+------------------+-----------+--------------+----------+----------+-------------+------------------+---------------+\n",
            "\n",
            "median_house_value\n",
            "+---------+--------+------------------+-----------+--------------+----------+----------+-------------+------------------+---------------+\n",
            "|longitude|latitude|housing_median_age|total_rooms|total_bedrooms|population|households|median_income|median_house_value|ocean_proximity|\n",
            "+---------+--------+------------------+-----------+--------------+----------+----------+-------------+------------------+---------------+\n",
            "+---------+--------+------------------+-----------+--------------+----------+----------+-------------+------------------+---------------+\n",
            "\n",
            "ocean_proximity\n",
            "+---------+--------+------------------+-----------+--------------+----------+----------+-------------+------------------+---------------+\n",
            "|longitude|latitude|housing_median_age|total_rooms|total_bedrooms|population|households|median_income|median_house_value|ocean_proximity|\n",
            "+---------+--------+------------------+-----------+--------------+----------+----------+-------------+------------------+---------------+\n",
            "+---------+--------+------------------+-----------+--------------+----------+----------+-------------+------------------+---------------+\n",
            "\n"
          ]
        }
      ]
    },
    {
      "cell_type": "code",
      "source": [
        "housing_w_nulls=housing.filter(housing.total_bedrooms.isNotNull())\n",
        "housing_w_nulls=housing_w_nulls.drop(\"ocean_proximity\") "
      ],
      "metadata": {
        "id": "5tfSqiw_ZoM5"
      },
      "execution_count": 290,
      "outputs": []
    },
    {
      "cell_type": "code",
      "metadata": {
        "id": "fYiNHQxiEfzr",
        "colab": {
          "base_uri": "https://localhost:8080/"
        },
        "outputId": "4061e9a8-7e7d-4fad-97cb-3b3d5837dc8d"
      },
      "source": [
        "#import corr function from pyspark functions\n",
        "from pyspark.sql.functions import corr\n",
        "\n",
        "# check for correlation\n",
        "housing_w_nulls.select(corr('total_rooms','median_house_value')).show()"
      ],
      "execution_count": 291,
      "outputs": [
        {
          "output_type": "stream",
          "name": "stdout",
          "text": [
            "+-------------------------------------+\n",
            "|corr(total_rooms, median_house_value)|\n",
            "+-------------------------------------+\n",
            "|                  0.13329413480832375|\n",
            "+-------------------------------------+\n",
            "\n"
          ]
        }
      ]
    },
    {
      "cell_type": "code",
      "source": [
        "housing_w_nulls.withColumn(\"longitude\",(housing_w_nulls[\"longitude\"]+200)).show(10,False)"
      ],
      "metadata": {
        "colab": {
          "base_uri": "https://localhost:8080/"
        },
        "id": "lGM7lrdLkqJJ",
        "outputId": "1d6c3a82-8913-49b4-9828-1c166097c55f"
      },
      "execution_count": 292,
      "outputs": [
        {
          "output_type": "stream",
          "name": "stdout",
          "text": [
            "+---------+--------+------------------+-----------+--------------+----------+----------+-------------+------------------+\n",
            "|longitude|latitude|housing_median_age|total_rooms|total_bedrooms|population|households|median_income|median_house_value|\n",
            "+---------+--------+------------------+-----------+--------------+----------+----------+-------------+------------------+\n",
            "|77.77    |37.88   |41.0              |880.0      |129.0         |322.0     |126.0     |8.3252       |452600.0          |\n",
            "|77.78    |37.86   |21.0              |7099.0     |1106.0        |2401.0    |1138.0    |8.3014       |358500.0          |\n",
            "|77.76    |37.85   |52.0              |1467.0     |190.0         |496.0     |177.0     |7.2574       |352100.0          |\n",
            "|77.75    |37.85   |52.0              |1274.0     |235.0         |558.0     |219.0     |5.6431       |341300.0          |\n",
            "|77.75    |37.85   |52.0              |1627.0     |280.0         |565.0     |259.0     |3.8462       |342200.0          |\n",
            "|77.75    |37.85   |52.0              |919.0      |213.0         |413.0     |193.0     |4.0368       |269700.0          |\n",
            "|77.75    |37.84   |52.0              |2535.0     |489.0         |1094.0    |514.0     |3.6591       |299200.0          |\n",
            "|77.75    |37.84   |52.0              |3104.0     |687.0         |1157.0    |647.0     |3.12         |241400.0          |\n",
            "|77.74    |37.84   |42.0              |2555.0     |665.0         |1206.0    |595.0     |2.0804       |226700.0          |\n",
            "|77.75    |37.84   |52.0              |3549.0     |707.0         |1551.0    |714.0     |3.6912       |261100.0          |\n",
            "+---------+--------+------------------+-----------+--------------+----------+----------+-------------+------------------+\n",
            "only showing top 10 rows\n",
            "\n"
          ]
        }
      ]
    },
    {
      "cell_type": "code",
      "source": [
        "#printSchema\n",
        "housing_w_nulls.printSchema()"
      ],
      "metadata": {
        "colab": {
          "base_uri": "https://localhost:8080/"
        },
        "id": "Ig1SXZYeliAd",
        "outputId": "0aa66225-df10-4fa9-b92c-9274c3194150"
      },
      "execution_count": 293,
      "outputs": [
        {
          "output_type": "stream",
          "name": "stdout",
          "text": [
            "root\n",
            " |-- longitude: double (nullable = true)\n",
            " |-- latitude: double (nullable = true)\n",
            " |-- housing_median_age: double (nullable = true)\n",
            " |-- total_rooms: double (nullable = true)\n",
            " |-- total_bedrooms: double (nullable = true)\n",
            " |-- population: double (nullable = true)\n",
            " |-- households: double (nullable = true)\n",
            " |-- median_income: double (nullable = true)\n",
            " |-- median_house_value: double (nullable = true)\n",
            "\n"
          ]
        }
      ]
    },
    {
      "cell_type": "code",
      "source": [
        "\n",
        "#import vectorassembler to create dense vectors\n",
        "from pyspark.ml.linalg import Vector\n",
        "from pyspark.ml.feature import VectorAssembler\n",
        "from pyspark.ml.feature import MinMaxScaler\n",
        "from pyspark.ml import Pipeline\n",
        "\n",
        "\n",
        "\n",
        "columns_to_scale = [x for x in housing_w_nulls.columns]\n",
        "assemblers = [VectorAssembler(inputCols=[col], outputCol=col + \"_vec\") for col in columns_to_scale]\n",
        "scalers = [MinMaxScaler(inputCol=col + \"_vec\", outputCol=col + \"_scaled\") for col in columns_to_scale]\n",
        "pipeline = Pipeline(stages=assemblers + scalers)\n",
        "scalerModel = pipeline.fit(housing_w_nulls)\n",
        "scaledData = scalerModel.transform(housing_w_nulls)\n"
      ],
      "metadata": {
        "id": "3T4gjwYHdxi5"
      },
      "execution_count": 294,
      "outputs": []
    },
    {
      "cell_type": "code",
      "source": [
        "scaledData.columns"
      ],
      "metadata": {
        "colab": {
          "base_uri": "https://localhost:8080/"
        },
        "id": "fTsmC2fxeg_O",
        "outputId": "e08a0c44-6f13-448f-91a2-9eb8d3862254"
      },
      "execution_count": 295,
      "outputs": [
        {
          "output_type": "execute_result",
          "data": {
            "text/plain": [
              "['longitude',\n",
              " 'latitude',\n",
              " 'housing_median_age',\n",
              " 'total_rooms',\n",
              " 'total_bedrooms',\n",
              " 'population',\n",
              " 'households',\n",
              " 'median_income',\n",
              " 'median_house_value',\n",
              " 'longitude_vec',\n",
              " 'latitude_vec',\n",
              " 'housing_median_age_vec',\n",
              " 'total_rooms_vec',\n",
              " 'total_bedrooms_vec',\n",
              " 'population_vec',\n",
              " 'households_vec',\n",
              " 'median_income_vec',\n",
              " 'median_house_value_vec',\n",
              " 'longitude_scaled',\n",
              " 'latitude_scaled',\n",
              " 'housing_median_age_scaled',\n",
              " 'total_rooms_scaled',\n",
              " 'total_bedrooms_scaled',\n",
              " 'population_scaled',\n",
              " 'households_scaled',\n",
              " 'median_income_scaled',\n",
              " 'median_house_value_scaled']"
            ]
          },
          "metadata": {},
          "execution_count": 295
        }
      ]
    },
    {
      "cell_type": "code",
      "source": [
        "scaledData=scaledData.select(['longitude_scaled','latitude_scaled','housing_median_age_scaled','total_rooms_scaled','total_bedrooms_scaled','population_scaled','households_scaled', 'median_house_value'])"
      ],
      "metadata": {
        "id": "JUfmUTfAFeMs"
      },
      "execution_count": 296,
      "outputs": []
    },
    {
      "cell_type": "code",
      "metadata": {
        "id": "flPZKpbwEgCD"
      },
      "source": [
        "#import vectorassembler to create dense vectors\n"
      ],
      "execution_count": 297,
      "outputs": []
    },
    {
      "cell_type": "code",
      "metadata": {
        "id": "qE5diGjxdnLr"
      },
      "source": [
        "#create the vector assembler \n",
        "vec_assmebler=VectorAssembler(inputCols=['longitude_scaled','latitude_scaled','housing_median_age_scaled','total_rooms_scaled','total_bedrooms_scaled','population_scaled','households_scaled'],outputCol='features')"
      ],
      "execution_count": 298,
      "outputs": []
    },
    {
      "cell_type": "code",
      "metadata": {
        "id": "qvWafkcfYMmY"
      },
      "source": [
        "#transform the values\n",
        "features_df=vec_assmebler.transform(scaledData)"
      ],
      "execution_count": 299,
      "outputs": []
    },
    {
      "cell_type": "code",
      "metadata": {
        "colab": {
          "base_uri": "https://localhost:8080/"
        },
        "id": "ISyY83PKdJRS",
        "outputId": "e520e935-5ceb-4b81-bf8d-bfe1f363bb21"
      },
      "source": [
        "#validate the presence of dense vectors \n",
        "features_df.printSchema()"
      ],
      "execution_count": 300,
      "outputs": [
        {
          "output_type": "stream",
          "name": "stdout",
          "text": [
            "root\n",
            " |-- longitude_scaled: vector (nullable = true)\n",
            " |-- latitude_scaled: vector (nullable = true)\n",
            " |-- housing_median_age_scaled: vector (nullable = true)\n",
            " |-- total_rooms_scaled: vector (nullable = true)\n",
            " |-- total_bedrooms_scaled: vector (nullable = true)\n",
            " |-- population_scaled: vector (nullable = true)\n",
            " |-- households_scaled: vector (nullable = true)\n",
            " |-- median_house_value: double (nullable = true)\n",
            " |-- features: vector (nullable = true)\n",
            "\n"
          ]
        }
      ]
    },
    {
      "cell_type": "code",
      "metadata": {
        "colab": {
          "base_uri": "https://localhost:8080/"
        },
        "id": "8hYEK4-9dJea",
        "outputId": "842a2f1f-1570-4450-9841-bd056d685d0d"
      },
      "source": [
        "#view the details of dense vector\n",
        "features_df.select('features').show(5,False)"
      ],
      "execution_count": 301,
      "outputs": [
        {
          "output_type": "stream",
          "name": "stdout",
          "text": [
            "+--------------------------------------------------------------------------------------------------------------------------------------------+\n",
            "|features                                                                                                                                    |\n",
            "+--------------------------------------------------------------------------------------------------------------------------------------------+\n",
            "|[0.21115537848605498,0.5674814027630182,0.7843137254901961,0.022330739101683705,0.019863438857852266,0.008940833543541018,0.020555829633284]|\n",
            "|[0.21215139442231046,0.5653560042507968,0.39215686274509803,0.180502568798006,0.17147734326505276,0.06721040387903249,0.18697582634435125]  |\n",
            "|[0.21015936254980092,0.5642933049946866,1.0,0.03726028790884582,0.029329608938547486,0.013817651840017937,0.028942608123663872]             |\n",
            "|[0.2091633466135454,0.5642933049946866,1.0,0.03235159468945521,0.03631284916201117,0.015555368704279827,0.0358493668804473]                 |\n",
            "|[0.2091633466135454,0.5642933049946866,1.0,0.041329670888651505,0.04329608938547486,0.015751562543793268,0.04242723236309818]               |\n",
            "+--------------------------------------------------------------------------------------------------------------------------------------------+\n",
            "only showing top 5 rows\n",
            "\n"
          ]
        }
      ]
    },
    {
      "cell_type": "code",
      "metadata": {
        "id": "0BA40zkedJqi"
      },
      "source": [
        "#create data containing input features and output column\n",
        "model_df=features_df.select('features','median_house_value')\n"
      ],
      "execution_count": 304,
      "outputs": []
    },
    {
      "cell_type": "code",
      "metadata": {
        "colab": {
          "base_uri": "https://localhost:8080/"
        },
        "id": "LzX8WHandJ2i",
        "outputId": "d0d8d225-6b0a-406f-b4cc-5bd66c66f094"
      },
      "source": [
        "model_df.show(5,False)"
      ],
      "execution_count": 305,
      "outputs": [
        {
          "output_type": "stream",
          "name": "stdout",
          "text": [
            "+--------------------------------------------------------------------------------------------------------------------------------------------+------------------+\n",
            "|features                                                                                                                                    |median_house_value|\n",
            "+--------------------------------------------------------------------------------------------------------------------------------------------+------------------+\n",
            "|[0.21115537848605498,0.5674814027630182,0.7843137254901961,0.022330739101683705,0.019863438857852266,0.008940833543541018,0.020555829633284]|452600.0          |\n",
            "|[0.21215139442231046,0.5653560042507968,0.39215686274509803,0.180502568798006,0.17147734326505276,0.06721040387903249,0.18697582634435125]  |358500.0          |\n",
            "|[0.21015936254980092,0.5642933049946866,1.0,0.03726028790884582,0.029329608938547486,0.013817651840017937,0.028942608123663872]             |352100.0          |\n",
            "|[0.2091633466135454,0.5642933049946866,1.0,0.03235159468945521,0.03631284916201117,0.015555368704279827,0.0358493668804473]                 |341300.0          |\n",
            "|[0.2091633466135454,0.5642933049946866,1.0,0.041329670888651505,0.04329608938547486,0.015751562543793268,0.04242723236309818]               |342200.0          |\n",
            "+--------------------------------------------------------------------------------------------------------------------------------------------+------------------+\n",
            "only showing top 5 rows\n",
            "\n"
          ]
        }
      ]
    },
    {
      "cell_type": "code",
      "metadata": {
        "colab": {
          "base_uri": "https://localhost:8080/"
        },
        "id": "DnyCYLacdKGS",
        "outputId": "69db4de6-c5be-4f22-bbf3-e725d88b7371"
      },
      "source": [
        "#size of model df\n",
        "print((model_df.count(), len(model_df.columns)))"
      ],
      "execution_count": 306,
      "outputs": [
        {
          "output_type": "stream",
          "name": "stdout",
          "text": [
            "(20433, 2)\n"
          ]
        }
      ]
    },
    {
      "cell_type": "code",
      "metadata": {
        "id": "AG7gIpdHdKSi"
      },
      "source": [
        "#split the data into 70/30 ratio for train test purpose\n",
        "train_df,test_df=model_df.randomSplit([0.7,0.3])\n",
        "\n"
      ],
      "execution_count": 307,
      "outputs": []
    },
    {
      "cell_type": "code",
      "metadata": {
        "colab": {
          "base_uri": "https://localhost:8080/"
        },
        "id": "H-xcwm3xdKfS",
        "outputId": "8d201155-9441-407f-90a0-1fe5009f1495"
      },
      "source": [
        "print((train_df.count(), len(train_df.columns)))"
      ],
      "execution_count": 308,
      "outputs": [
        {
          "output_type": "stream",
          "name": "stdout",
          "text": [
            "(14313, 2)\n"
          ]
        }
      ]
    },
    {
      "cell_type": "code",
      "metadata": {
        "id": "K1UqdgYidKsq",
        "colab": {
          "base_uri": "https://localhost:8080/"
        },
        "outputId": "73928e23-dedf-45ff-a22c-5d5de038c07f"
      },
      "source": [
        "print((test_df.count(), len(test_df.columns)))"
      ],
      "execution_count": 309,
      "outputs": [
        {
          "output_type": "stream",
          "name": "stdout",
          "text": [
            "(6120, 2)\n"
          ]
        }
      ]
    },
    {
      "cell_type": "code",
      "metadata": {
        "id": "CJhrMFFiV2SF",
        "colab": {
          "base_uri": "https://localhost:8080/"
        },
        "outputId": "33b8337e-994b-47fa-d66e-7bc0be60b847"
      },
      "source": [
        "train_df.describe().show()"
      ],
      "execution_count": 310,
      "outputs": [
        {
          "output_type": "stream",
          "name": "stdout",
          "text": [
            "+-------+------------------+\n",
            "|summary|median_house_value|\n",
            "+-------+------------------+\n",
            "|  count|             14313|\n",
            "|   mean|207522.14734856423|\n",
            "| stddev|115873.43907820669|\n",
            "|    min|           14999.0|\n",
            "|    max|          500001.0|\n",
            "+-------+------------------+\n",
            "\n"
          ]
        }
      ]
    },
    {
      "cell_type": "code",
      "metadata": {
        "id": "wjIKE_wAV2f9"
      },
      "source": [
        "#Build Linear Regression model \n",
        "lin_Reg=LinearRegression(labelCol='median_house_value')"
      ],
      "execution_count": 311,
      "outputs": []
    },
    {
      "cell_type": "code",
      "metadata": {
        "id": "UrfIdrPLffcF"
      },
      "source": [
        "#fit the linear regression model on training data set \n",
        "lr_model=lin_Reg.fit(train_df)"
      ],
      "execution_count": 312,
      "outputs": []
    },
    {
      "cell_type": "code",
      "metadata": {
        "id": "DRu24wwnffuk",
        "colab": {
          "base_uri": "https://localhost:8080/"
        },
        "outputId": "434fca36-2a70-4d90-e9f5-54eb645fc4db"
      },
      "source": [
        "lr_model.intercept"
      ],
      "execution_count": 313,
      "outputs": [
        {
          "output_type": "execute_result",
          "data": {
            "text/plain": [
              "751413.704461604"
            ]
          },
          "metadata": {},
          "execution_count": 313
        }
      ]
    },
    {
      "cell_type": "code",
      "metadata": {
        "id": "cCdLXEsFff_E",
        "colab": {
          "base_uri": "https://localhost:8080/"
        },
        "outputId": "5abd1fd5-94b5-486a-bc44-82c3199bb850"
      },
      "source": [
        "print(lr_model.coefficients)"
      ],
      "execution_count": 314,
      "outputs": [
        {
          "output_type": "stream",
          "name": "stdout",
          "text": [
            "[-705545.4833313901,-673208.2184071423,20420.42506055536,1879877.7614370377,-1094330.0020162405,-2465390.9641257212,800033.7883019286]\n"
          ]
        }
      ]
    },
    {
      "cell_type": "code",
      "metadata": {
        "id": "Ud7KeQ61ftYs"
      },
      "source": [
        "training_predictions=lr_model.evaluate(train_df)"
      ],
      "execution_count": 315,
      "outputs": []
    },
    {
      "cell_type": "code",
      "metadata": {
        "id": "FtmUQWNuftnc",
        "colab": {
          "base_uri": "https://localhost:8080/"
        },
        "outputId": "009d494c-7ddb-49c2-a5d4-3847816b3f72"
      },
      "source": [
        "training_predictions.meanSquaredError"
      ],
      "execution_count": 316,
      "outputs": [
        {
          "output_type": "execute_result",
          "data": {
            "text/plain": [
              "8275420101.514902"
            ]
          },
          "metadata": {},
          "execution_count": 316
        }
      ]
    },
    {
      "cell_type": "code",
      "metadata": {
        "id": "6G4L4A28ft1s",
        "colab": {
          "base_uri": "https://localhost:8080/"
        },
        "outputId": "bc5b675e-f329-4f1b-bcaa-80ea002dbd1e"
      },
      "source": [
        "training_predictions.r2"
      ],
      "execution_count": 317,
      "outputs": [
        {
          "output_type": "execute_result",
          "data": {
            "text/plain": [
              "0.3836142356373503"
            ]
          },
          "metadata": {},
          "execution_count": 317
        }
      ]
    },
    {
      "cell_type": "code",
      "source": [
        "#make predictions on test data \n",
        "test_results=lr_model.evaluate(test_df)"
      ],
      "metadata": {
        "id": "sxe1icrLMKFp"
      },
      "execution_count": 319,
      "outputs": []
    },
    {
      "cell_type": "code",
      "metadata": {
        "id": "L2UDzZDJfzA8",
        "colab": {
          "base_uri": "https://localhost:8080/"
        },
        "outputId": "20b20cce-853b-4281-ea8e-2a3fc6ac8674"
      },
      "source": [
        "#view the residual errors based on predictions \n",
        "test_results.residuals.show(10)"
      ],
      "execution_count": 320,
      "outputs": [
        {
          "output_type": "stream",
          "name": "stderr",
          "text": [
            "/content/spark-3.2.0-bin-hadoop3.2/python/pyspark/sql/context.py:127: FutureWarning: Deprecated in 3.0.0. Use SparkSession.builder.getOrCreate() instead.\n",
            "  FutureWarning\n"
          ]
        },
        {
          "output_type": "stream",
          "name": "stdout",
          "text": [
            "+-------------------+\n",
            "|          residuals|\n",
            "+-------------------+\n",
            "|-114021.24787405948|\n",
            "| -123813.9040577513|\n",
            "|-12852.731273540063|\n",
            "| -92219.12272275297|\n",
            "|-110959.37325960398|\n",
            "| -90190.86963967653|\n",
            "| -96695.75417783775|\n",
            "| -98313.56446928647|\n",
            "| -67220.13948030479|\n",
            "| -87709.28732038522|\n",
            "+-------------------+\n",
            "only showing top 10 rows\n",
            "\n"
          ]
        }
      ]
    },
    {
      "cell_type": "code",
      "metadata": {
        "id": "q--ripkMf3is",
        "colab": {
          "base_uri": "https://localhost:8080/"
        },
        "outputId": "9c803f73-26c5-40ce-bbd2-a670d1cad68c"
      },
      "source": [
        "#coefficient of determination value for model\n",
        "test_results.r2"
      ],
      "execution_count": 321,
      "outputs": [
        {
          "output_type": "execute_result",
          "data": {
            "text/plain": [
              "0.37885343274679995"
            ]
          },
          "metadata": {},
          "execution_count": 321
        }
      ]
    },
    {
      "cell_type": "code",
      "metadata": {
        "id": "Hf9b2I4Df3zM",
        "colab": {
          "base_uri": "https://localhost:8080/"
        },
        "outputId": "c6e5eec3-87e7-4e3f-928a-531e32921c17"
      },
      "source": [
        "test_results.rootMeanSquaredError"
      ],
      "execution_count": 322,
      "outputs": [
        {
          "output_type": "execute_result",
          "data": {
            "text/plain": [
              "90154.49986887307"
            ]
          },
          "metadata": {},
          "execution_count": 322
        }
      ]
    },
    {
      "cell_type": "code",
      "metadata": {
        "id": "Ce8ccPlJf4BE",
        "colab": {
          "base_uri": "https://localhost:8080/"
        },
        "outputId": "b98eab47-2267-4616-d86b-82bcb2cd46bd"
      },
      "source": [
        "test_results.meanSquaredError"
      ],
      "execution_count": 323,
      "outputs": [
        {
          "output_type": "execute_result",
          "data": {
            "text/plain": [
              "8127833846.606633"
            ]
          },
          "metadata": {},
          "execution_count": 323
        }
      ]
    },
    {
      "cell_type": "markdown",
      "metadata": {
        "id": "ILrbg4HS_tq7"
      },
      "source": [
        ""
      ]
    }
  ]
}